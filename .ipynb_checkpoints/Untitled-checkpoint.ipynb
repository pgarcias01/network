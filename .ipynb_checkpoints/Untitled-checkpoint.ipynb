{
 "cells": [
  {
   "cell_type": "code",
   "execution_count": 55,
   "id": "bb081efd-7394-458b-886e-46f675d6d2b1",
   "metadata": {},
   "outputs": [],
   "source": [
    "import pandas as pd\n",
    "from pyvis.network import Network\n",
    "from tqdm import tqdm\n",
    "from tqdm.contrib.concurrent import process_map\n",
    "import itertools\n",
    "import functools\n",
    "import pickle"
   ]
  },
  {
   "cell_type": "code",
   "execution_count": 2,
   "id": "f29cdbb0-1d05-490d-afcd-4e17c786e181",
   "metadata": {},
   "outputs": [],
   "source": [
    "df = pd.read_csv('final_08_08.csv')\n",
    "#df.columns\n",
    "df_cut = df[['name', 'cb_link','site','Industries']]\n",
    "df_cut = df_cut[~df_cut['Industries'].isna()].reset_index(drop=True)\n",
    "df_cut['Industries'] = df_cut['Industries'].apply(lambda x: x.split(','))\n",
    "df_cut['Industries'] = df_cut['Industries'].apply(lambda x: [item.strip() for item in x])"
   ]
  },
  {
   "cell_type": "code",
   "execution_count": 19,
   "id": "b82353d8-faac-4116-b17a-77c0dea8b5af",
   "metadata": {},
   "outputs": [],
   "source": [
    "df_cut = df[['name', 'cb_link','site','Industries']]\n",
    "df_cut = df_cut[~df_cut['Industries'].isna()].reset_index(drop=True)\n",
    "df_cut['Industries'] = df_cut['Industries'].apply(lambda x: x.split(','))\n",
    "df_cut = df_cut.explode('Industries').reset_index(drop=True)\n",
    "df_cut['Industries'] = df_cut['Industries'].apply(lambda x: x.strip())\n",
    "df_cut['weight']=1\n",
    "#df_cut = df_cut.sample(5000)\n",
    "ind = dict(zip(df_cut['Industries'].value_counts().index,\n",
    "df_cut['Industries'].value_counts().values))"
   ]
  },
  {
   "cell_type": "code",
   "execution_count": 6,
   "id": "8e08b9f9-0b71-4288-a7b0-e049fbdcde5b",
   "metadata": {
    "collapsed": true,
    "jupyter": {
     "outputs_hidden": true,
     "source_hidden": true
    },
    "tags": []
   },
   "outputs": [
    {
     "data": {
      "text/html": [
       "\n",
       "        <iframe\n",
       "            width=\"100%\"\n",
       "            height=\"1000px\"\n",
       "            src=\"gameofthrones.html\"\n",
       "            frameborder=\"0\"\n",
       "            allowfullscreen\n",
       "        ></iframe>\n",
       "        "
      ],
      "text/plain": [
       "<IPython.lib.display.IFrame at 0x7fd2283d7280>"
      ]
     },
     "execution_count": 6,
     "metadata": {},
     "output_type": "execute_result"
    }
   ],
   "source": [
    "got_net = Network(height='1000px', width='100%', bgcolor='#222222', font_color='white',notebook=True)\n",
    "\n",
    "# set the physics layout of the network\n",
    "got_net.barnes_hut(gravity=-80000, central_gravity=0.3, spring_length=250, spring_strength=0.001, damping=0.09, overlap=1)\n",
    "#got_net.force_atlas_2based()\n",
    "#got_net.hrepulsion()\n",
    "#got_net.repulsion()\n",
    "\n",
    "sources = [1,2,3,4]\n",
    "targets = [5,5,6,6]\n",
    "weights = [1,10,20,100]\n",
    "edge_data = zip(sources, targets, weights)\n",
    "\n",
    "    \n",
    "for e in edge_data:\n",
    "    src = e[0]\n",
    "    dst = e[1]\n",
    "    w = e[2]\n",
    "    got_net.add_node(src, src, color='orange')\n",
    "    got_net.add_node(dst, dst, color='blue')\n",
    "    got_net.add_edge(src, dst, color='gray',value=w)\n",
    "\n",
    "neighbor_map = got_net.get_adj_list()\n",
    "\n",
    "# add neighbor data to node hover data\n",
    "#for node in got_net.nodes:\n",
    "#    node['title'] += ' Neighbors:<br>' + '<br>'.join(neighbor_map[node['id']])\n",
    "    #node['value'] = node['size']\n",
    "got_net.show_buttons(filter_=['physics'])\n",
    "got_net.show('gameofthrones.html')"
   ]
  },
  {
   "cell_type": "code",
   "execution_count": 22,
   "id": "6c3562f3-27c3-436c-8095-f21c8fd75830",
   "metadata": {
    "tags": []
   },
   "outputs": [],
   "source": [
    "got_net = Network(height='1000px', width='100%', bgcolor='#222222', font_color='white')\n",
    "\n",
    "# set the physics layout of the network\n",
    "#got_net.barnes_hut(gravity=-80000, central_gravity=0.1, spring_length=50, spring_strength=0.015, damping=0.4, overlap=0.9)\n",
    "got_net.force_atlas_2based(gravity= -1500, central_gravity=0.025, spring_length=50,spring_strength=0.05,damping=0.5,overlap=0.99)\n",
    "#got_net.hrepulsion()\n",
    "#got_net.repulsion()\n",
    "\n",
    "got_net.inherit_edge_colors(True)\n",
    "sources = df_cut['name']\n",
    "targets = df_cut['Industries']\n",
    "weights = df_cut['weight']\n",
    "edge_data = zip(sources, targets, weights)\n",
    "\n",
    "for key in ind.keys():\n",
    "    size = int(ind[key])*5 if ind[key]>6 else 30\n",
    "    got_net.add_node(key, key, title=key,color='orange', size=size)\n",
    "\n",
    "for src in sources.unique():\n",
    "    got_net.add_node(src, src, title=src,size=40,color='#1588e6')\n",
    "\n",
    "for e in edge_data:\n",
    "    src = e[0]\n",
    "    dst = e[1]\n",
    "    w = e[2]\n",
    "    got_net.add_edge(src, dst, value=0.01,color='#3d3d3d')\n",
    "\n",
    "neighbor_map = got_net.get_adj_list()\n",
    "\n",
    "got_net.set_edge_smooth('cubicBezier')\n",
    "got_net.inherit_edge_colors(True)\n",
    "#got_net.set_edge_smooth('continuous')\n",
    "# add neighbor data to node hover data\n",
    "#for node in got_net.nodes:\n",
    "#    node['title'] += ' Neighbors:<br>' + '<br>'.join(neighbor_map[node['id']])\n",
    "    #node['value'] = node['size']\n",
    "got_net.show_buttons(filter_=['physics'])\n",
    "got_net.show('grapho.html')"
   ]
  },
  {
   "cell_type": "code",
   "execution_count": 167,
   "id": "a545ebf4-aaf5-4901-ba35-74405173107c",
   "metadata": {},
   "outputs": [
    {
     "name": "stderr",
     "output_type": "stream",
     "text": [
      " 15%|█▌        | 370/2462 [04:32<25:40,  1.36it/s]  \n"
     ]
    },
    {
     "ename": "KeyboardInterrupt",
     "evalue": "",
     "output_type": "error",
     "traceback": [
      "\u001b[0;31m---------------------------------------------------------------------------\u001b[0m",
      "\u001b[0;31mKeyboardInterrupt\u001b[0m                         Traceback (most recent call last)",
      "\u001b[0;32m<ipython-input-167-ca137678521c>\u001b[0m in \u001b[0;36m<module>\u001b[0;34m\u001b[0m\n\u001b[1;32m     40\u001b[0m \u001b[0mneighbor_map\u001b[0m \u001b[0;34m=\u001b[0m \u001b[0mgot_net\u001b[0m\u001b[0;34m.\u001b[0m\u001b[0mget_adj_list\u001b[0m\u001b[0;34m(\u001b[0m\u001b[0;34m)\u001b[0m\u001b[0;34m\u001b[0m\u001b[0;34m\u001b[0m\u001b[0m\n\u001b[1;32m     41\u001b[0m \u001b[0;34m\u001b[0m\u001b[0m\n\u001b[0;32m---> 42\u001b[0;31m \u001b[0mlist\u001b[0m\u001b[0;34m(\u001b[0m\u001b[0mmap\u001b[0m\u001b[0;34m(\u001b[0m\u001b[0mcreate_edge\u001b[0m\u001b[0;34m,\u001b[0m\u001b[0mtqdm\u001b[0m\u001b[0;34m(\u001b[0m\u001b[0msources\u001b[0m\u001b[0;34m.\u001b[0m\u001b[0munique\u001b[0m\u001b[0;34m(\u001b[0m\u001b[0;34m)\u001b[0m\u001b[0;34m)\u001b[0m\u001b[0;34m)\u001b[0m\u001b[0;34m)\u001b[0m\u001b[0;34m\u001b[0m\u001b[0;34m\u001b[0m\u001b[0m\n\u001b[0m\u001b[1;32m     43\u001b[0m \u001b[0;34m\u001b[0m\u001b[0m\n\u001b[1;32m     44\u001b[0m \u001b[0mgot_net\u001b[0m\u001b[0;34m.\u001b[0m\u001b[0mset_edge_smooth\u001b[0m\u001b[0;34m(\u001b[0m\u001b[0;34m'cubicBezier'\u001b[0m\u001b[0;34m)\u001b[0m\u001b[0;34m\u001b[0m\u001b[0;34m\u001b[0m\u001b[0m\n",
      "\u001b[0;32m<ipython-input-167-ca137678521c>\u001b[0m in \u001b[0;36mcreate_edge\u001b[0;34m(src)\u001b[0m\n\u001b[1;32m     36\u001b[0m \u001b[0;32mdef\u001b[0m \u001b[0mcreate_edge\u001b[0m\u001b[0;34m(\u001b[0m\u001b[0msrc\u001b[0m\u001b[0;34m)\u001b[0m\u001b[0;34m:\u001b[0m\u001b[0;34m\u001b[0m\u001b[0;34m\u001b[0m\u001b[0m\n\u001b[1;32m     37\u001b[0m     \u001b[0minds\u001b[0m \u001b[0;34m=\u001b[0m \u001b[0mdf_cut\u001b[0m\u001b[0;34m[\u001b[0m\u001b[0mdf_cut\u001b[0m\u001b[0;34m[\u001b[0m\u001b[0;34m'name'\u001b[0m\u001b[0;34m]\u001b[0m\u001b[0;34m==\u001b[0m\u001b[0msrc\u001b[0m\u001b[0;34m]\u001b[0m\u001b[0;34m.\u001b[0m\u001b[0mIndustries\u001b[0m\u001b[0;34m.\u001b[0m\u001b[0mvalues\u001b[0m\u001b[0;34m\u001b[0m\u001b[0;34m\u001b[0m\u001b[0m\n\u001b[0;32m---> 38\u001b[0;31m     \u001b[0mlist\u001b[0m\u001b[0;34m(\u001b[0m\u001b[0mmap\u001b[0m\u001b[0;34m(\u001b[0m\u001b[0mfunctools\u001b[0m\u001b[0;34m.\u001b[0m\u001b[0mpartial\u001b[0m\u001b[0;34m(\u001b[0m\u001b[0mwork_ind\u001b[0m\u001b[0;34m,\u001b[0m\u001b[0msrc\u001b[0m\u001b[0;34m)\u001b[0m\u001b[0;34m,\u001b[0m\u001b[0minds\u001b[0m\u001b[0;34m)\u001b[0m\u001b[0;34m)\u001b[0m\u001b[0;34m\u001b[0m\u001b[0;34m\u001b[0m\u001b[0m\n\u001b[0m\u001b[1;32m     39\u001b[0m \u001b[0;34m\u001b[0m\u001b[0m\n\u001b[1;32m     40\u001b[0m \u001b[0mneighbor_map\u001b[0m \u001b[0;34m=\u001b[0m \u001b[0mgot_net\u001b[0m\u001b[0;34m.\u001b[0m\u001b[0mget_adj_list\u001b[0m\u001b[0;34m(\u001b[0m\u001b[0;34m)\u001b[0m\u001b[0;34m\u001b[0m\u001b[0;34m\u001b[0m\u001b[0m\n",
      "\u001b[0;32m<ipython-input-167-ca137678521c>\u001b[0m in \u001b[0;36mwork_ind\u001b[0;34m(src, ind)\u001b[0m\n\u001b[1;32m     32\u001b[0m     \u001b[0mdsts\u001b[0m \u001b[0;34m=\u001b[0m \u001b[0mdf_cut\u001b[0m\u001b[0;34m[\u001b[0m\u001b[0mdf_cut\u001b[0m\u001b[0;34m[\u001b[0m\u001b[0;34m'Industries'\u001b[0m\u001b[0;34m]\u001b[0m\u001b[0;34m==\u001b[0m\u001b[0mind\u001b[0m\u001b[0;34m]\u001b[0m\u001b[0;34m\u001b[0m\u001b[0;34m\u001b[0m\u001b[0m\n\u001b[1;32m     33\u001b[0m     \u001b[0mdsts\u001b[0m \u001b[0;34m=\u001b[0m \u001b[0mdsts\u001b[0m\u001b[0;34m[\u001b[0m\u001b[0mdsts\u001b[0m\u001b[0;34m[\u001b[0m\u001b[0;34m'name'\u001b[0m\u001b[0;34m]\u001b[0m\u001b[0;34m!=\u001b[0m\u001b[0msrc\u001b[0m\u001b[0;34m]\u001b[0m\u001b[0;34m\u001b[0m\u001b[0;34m\u001b[0m\u001b[0m\n\u001b[0;32m---> 34\u001b[0;31m     \u001b[0;34m[\u001b[0m\u001b[0mgot_net\u001b[0m\u001b[0;34m.\u001b[0m\u001b[0madd_edge\u001b[0m\u001b[0;34m(\u001b[0m\u001b[0msrc\u001b[0m\u001b[0;34m,\u001b[0m \u001b[0mdst\u001b[0m\u001b[0;34m[\u001b[0m\u001b[0;36m0\u001b[0m\u001b[0;34m]\u001b[0m\u001b[0;34m,\u001b[0m \u001b[0mvalue\u001b[0m\u001b[0;34m=\u001b[0m\u001b[0mint\u001b[0m\u001b[0;34m(\u001b[0m\u001b[0mdst\u001b[0m\u001b[0;34m[\u001b[0m\u001b[0;36m1\u001b[0m\u001b[0;34m]\u001b[0m\u001b[0;34m)\u001b[0m\u001b[0;34m,\u001b[0m\u001b[0mcolor\u001b[0m\u001b[0;34m=\u001b[0m\u001b[0;34m'#3d3d3d'\u001b[0m\u001b[0;34m)\u001b[0m\u001b[0;32mfor\u001b[0m \u001b[0mdst\u001b[0m \u001b[0;32min\u001b[0m \u001b[0mzip\u001b[0m\u001b[0;34m(\u001b[0m\u001b[0mdsts\u001b[0m\u001b[0;34m[\u001b[0m\u001b[0;34m'name'\u001b[0m\u001b[0;34m]\u001b[0m\u001b[0;34m.\u001b[0m\u001b[0mvalue_counts\u001b[0m\u001b[0;34m(\u001b[0m\u001b[0;34m)\u001b[0m\u001b[0;34m.\u001b[0m\u001b[0mindex\u001b[0m\u001b[0;34m,\u001b[0m\u001b[0mdsts\u001b[0m\u001b[0;34m[\u001b[0m\u001b[0;34m'name'\u001b[0m\u001b[0;34m]\u001b[0m\u001b[0;34m.\u001b[0m\u001b[0mvalue_counts\u001b[0m\u001b[0;34m(\u001b[0m\u001b[0;34m)\u001b[0m\u001b[0;34m.\u001b[0m\u001b[0mvalues\u001b[0m\u001b[0;34m)\u001b[0m\u001b[0;34m]\u001b[0m\u001b[0;34m\u001b[0m\u001b[0;34m\u001b[0m\u001b[0m\n\u001b[0m\u001b[1;32m     35\u001b[0m \u001b[0;34m\u001b[0m\u001b[0m\n\u001b[1;32m     36\u001b[0m \u001b[0;32mdef\u001b[0m \u001b[0mcreate_edge\u001b[0m\u001b[0;34m(\u001b[0m\u001b[0msrc\u001b[0m\u001b[0;34m)\u001b[0m\u001b[0;34m:\u001b[0m\u001b[0;34m\u001b[0m\u001b[0;34m\u001b[0m\u001b[0m\n",
      "\u001b[0;32m<ipython-input-167-ca137678521c>\u001b[0m in \u001b[0;36m<listcomp>\u001b[0;34m(.0)\u001b[0m\n\u001b[1;32m     32\u001b[0m     \u001b[0mdsts\u001b[0m \u001b[0;34m=\u001b[0m \u001b[0mdf_cut\u001b[0m\u001b[0;34m[\u001b[0m\u001b[0mdf_cut\u001b[0m\u001b[0;34m[\u001b[0m\u001b[0;34m'Industries'\u001b[0m\u001b[0;34m]\u001b[0m\u001b[0;34m==\u001b[0m\u001b[0mind\u001b[0m\u001b[0;34m]\u001b[0m\u001b[0;34m\u001b[0m\u001b[0;34m\u001b[0m\u001b[0m\n\u001b[1;32m     33\u001b[0m     \u001b[0mdsts\u001b[0m \u001b[0;34m=\u001b[0m \u001b[0mdsts\u001b[0m\u001b[0;34m[\u001b[0m\u001b[0mdsts\u001b[0m\u001b[0;34m[\u001b[0m\u001b[0;34m'name'\u001b[0m\u001b[0;34m]\u001b[0m\u001b[0;34m!=\u001b[0m\u001b[0msrc\u001b[0m\u001b[0;34m]\u001b[0m\u001b[0;34m\u001b[0m\u001b[0;34m\u001b[0m\u001b[0m\n\u001b[0;32m---> 34\u001b[0;31m     \u001b[0;34m[\u001b[0m\u001b[0mgot_net\u001b[0m\u001b[0;34m.\u001b[0m\u001b[0madd_edge\u001b[0m\u001b[0;34m(\u001b[0m\u001b[0msrc\u001b[0m\u001b[0;34m,\u001b[0m \u001b[0mdst\u001b[0m\u001b[0;34m[\u001b[0m\u001b[0;36m0\u001b[0m\u001b[0;34m]\u001b[0m\u001b[0;34m,\u001b[0m \u001b[0mvalue\u001b[0m\u001b[0;34m=\u001b[0m\u001b[0mint\u001b[0m\u001b[0;34m(\u001b[0m\u001b[0mdst\u001b[0m\u001b[0;34m[\u001b[0m\u001b[0;36m1\u001b[0m\u001b[0;34m]\u001b[0m\u001b[0;34m)\u001b[0m\u001b[0;34m,\u001b[0m\u001b[0mcolor\u001b[0m\u001b[0;34m=\u001b[0m\u001b[0;34m'#3d3d3d'\u001b[0m\u001b[0;34m)\u001b[0m\u001b[0;32mfor\u001b[0m \u001b[0mdst\u001b[0m \u001b[0;32min\u001b[0m \u001b[0mzip\u001b[0m\u001b[0;34m(\u001b[0m\u001b[0mdsts\u001b[0m\u001b[0;34m[\u001b[0m\u001b[0;34m'name'\u001b[0m\u001b[0;34m]\u001b[0m\u001b[0;34m.\u001b[0m\u001b[0mvalue_counts\u001b[0m\u001b[0;34m(\u001b[0m\u001b[0;34m)\u001b[0m\u001b[0;34m.\u001b[0m\u001b[0mindex\u001b[0m\u001b[0;34m,\u001b[0m\u001b[0mdsts\u001b[0m\u001b[0;34m[\u001b[0m\u001b[0;34m'name'\u001b[0m\u001b[0;34m]\u001b[0m\u001b[0;34m.\u001b[0m\u001b[0mvalue_counts\u001b[0m\u001b[0;34m(\u001b[0m\u001b[0;34m)\u001b[0m\u001b[0;34m.\u001b[0m\u001b[0mvalues\u001b[0m\u001b[0;34m)\u001b[0m\u001b[0;34m]\u001b[0m\u001b[0;34m\u001b[0m\u001b[0;34m\u001b[0m\u001b[0m\n\u001b[0m\u001b[1;32m     35\u001b[0m \u001b[0;34m\u001b[0m\u001b[0m\n\u001b[1;32m     36\u001b[0m \u001b[0;32mdef\u001b[0m \u001b[0mcreate_edge\u001b[0m\u001b[0;34m(\u001b[0m\u001b[0msrc\u001b[0m\u001b[0;34m)\u001b[0m\u001b[0;34m:\u001b[0m\u001b[0;34m\u001b[0m\u001b[0;34m\u001b[0m\u001b[0m\n",
      "\u001b[0;32m~/anaconda3/lib/python3.8/site-packages/pyvis/network.py\u001b[0m in \u001b[0;36madd_edge\u001b[0;34m(self, source, to, **options)\u001b[0m\n\u001b[1;32m    342\u001b[0m         \u001b[0;31m# we only check existing edge for undirected graphs\u001b[0m\u001b[0;34m\u001b[0m\u001b[0;34m\u001b[0m\u001b[0;34m\u001b[0m\u001b[0m\n\u001b[1;32m    343\u001b[0m         \u001b[0;32mif\u001b[0m \u001b[0;32mnot\u001b[0m \u001b[0mself\u001b[0m\u001b[0;34m.\u001b[0m\u001b[0mdirected\u001b[0m\u001b[0;34m:\u001b[0m\u001b[0;34m\u001b[0m\u001b[0;34m\u001b[0m\u001b[0m\n\u001b[0;32m--> 344\u001b[0;31m             \u001b[0;32mfor\u001b[0m \u001b[0me\u001b[0m \u001b[0;32min\u001b[0m \u001b[0mself\u001b[0m\u001b[0;34m.\u001b[0m\u001b[0medges\u001b[0m\u001b[0;34m:\u001b[0m\u001b[0;34m\u001b[0m\u001b[0;34m\u001b[0m\u001b[0m\n\u001b[0m\u001b[1;32m    345\u001b[0m                 \u001b[0mfrm\u001b[0m \u001b[0;34m=\u001b[0m \u001b[0me\u001b[0m\u001b[0;34m[\u001b[0m\u001b[0;34m'from'\u001b[0m\u001b[0;34m]\u001b[0m\u001b[0;34m\u001b[0m\u001b[0;34m\u001b[0m\u001b[0m\n\u001b[1;32m    346\u001b[0m                 \u001b[0mdest\u001b[0m \u001b[0;34m=\u001b[0m \u001b[0me\u001b[0m\u001b[0;34m[\u001b[0m\u001b[0;34m'to'\u001b[0m\u001b[0;34m]\u001b[0m\u001b[0;34m\u001b[0m\u001b[0;34m\u001b[0m\u001b[0m\n",
      "\u001b[0;31mKeyboardInterrupt\u001b[0m: "
     ]
    }
   ],
   "source": [
    "from multiprocess import Pool\n",
    "import functools\n",
    "\n",
    "df_cut = df[['name', 'cb_link','site','Industries']]\n",
    "df_cut = df_cut[~df_cut['Industries'].isna()].reset_index(drop=True)\n",
    "df_cut['Industries'] = df_cut['Industries'].apply(lambda x: x.split(','))\n",
    "df_cut = df_cut.explode('Industries').reset_index(drop=True)\n",
    "df_cut['Industries'] = df_cut['Industries'].apply(lambda x: x.strip())\n",
    "df_cut['weight']=1\n",
    "df_cut = df_cut.sample(4000)\n",
    "ind = dict(zip(df_cut['Industries'].value_counts().index,\n",
    "df_cut['Industries'].value_counts().values))\n",
    "\n",
    "got_net = Network(height='1000px', width='100%', bgcolor='#222222', font_color='white')\n",
    "\n",
    "# set the physics layout of the network\n",
    "#got_net.barnes_hut(gravity=-80000, central_gravity=0.1, spring_length=50, spring_strength=0.015, damping=0.4, overlap=0.9)\n",
    "got_net.force_atlas_2based(gravity= -1500, central_gravity=0.025, spring_length=50,spring_strength=0.05,damping=0.5,overlap=0.99)\n",
    "#got_net.hrepulsion()\n",
    "#got_net.repulsion()\n",
    "\n",
    "got_net.inherit_edge_colors(True)\n",
    "sources = df_cut['name']\n",
    "targets = df_cut['Industries']\n",
    "weights = df_cut['weight']\n",
    "edge_data = zip(sources, targets, weights)\n",
    "\n",
    "for src in sources.unique():\n",
    "    got_net.add_node(src, src, title=src,size=40,color='#1588e6')\n",
    "\n",
    "def work_ind(src,ind):\n",
    "    dsts = df_cut[df_cut['Industries']==ind]\n",
    "    dsts = dsts[dsts['name']!=src]\n",
    "    [got_net.add_edge(src, dst[0], value=int(dst[1]),color='#3d3d3d')for dst in zip(dsts['name'].value_counts().index,dsts['name'].value_counts().values)]\n",
    "    \n",
    "def create_edge(src):\n",
    "    inds = df_cut[df_cut['name']==src].Industries.values\n",
    "    list(map(functools.partial(work_ind,src),inds))\n",
    "\n",
    "neighbor_map = got_net.get_adj_list()\n",
    "\n",
    "list(map(create_edge,tqdm(sources.unique())))\n",
    "\n",
    "out = process_map(create_edge,sources.unique(),max_workers=2,chunksize=10)\n",
    "\n",
    "got_net.set_edge_smooth('cubicBezier')\n",
    "got_net.inherit_edge_colors(True)\n",
    "#got_net.set_edge_smooth('continuous')\n",
    "# add neighbor data to node hover data\n",
    "#for node in got_net.nodes:\n",
    "#    node['title'] += ' Neighbors:<br>' + '<br>'.join(neighbor_map[node['id']])\n",
    "    #node['value'] = node['size']\n",
    "got_net.show_buttons(filter_=['physics'])\n",
    "got_net.show('grapho.html')"
   ]
  },
  {
   "cell_type": "code",
   "execution_count": null,
   "id": "2616da60-034d-4f61-886f-4db98f553557",
   "metadata": {},
   "outputs": [],
   "source": []
  },
  {
   "cell_type": "code",
   "execution_count": 60,
   "id": "6b1addd7-0648-4c4c-b2ec-472ac57dc2f5",
   "metadata": {},
   "outputs": [
    {
     "data": {
      "application/vnd.jupyter.widget-view+json": {
       "model_id": "246d3be0867e485994a99d793b9a74a0",
       "version_major": 2,
       "version_minor": 0
      },
      "text/plain": [
       "HBox(children=(HTML(value=''), FloatProgress(value=0.0, max=1271.0), HTML(value='')))"
      ]
     },
     "metadata": {},
     "output_type": "display_data"
    },
    {
     "name": "stderr",
     "output_type": "stream",
     "text": [
      "  1%|          | 47714/4645478 [14:00<22:30:10, 56.76it/s]\n"
     ]
    },
    {
     "name": "stdout",
     "output_type": "stream",
     "text": [
      "\n"
     ]
    },
    {
     "name": "stderr",
     "output_type": "stream",
     "text": [
      "  2%|▏         | 39345/1614170 [01:45<2:36:41, 167.51it/s]"
     ]
    },
    {
     "ename": "KeyboardInterrupt",
     "evalue": "",
     "output_type": "error",
     "traceback": [
      "\u001b[0;31m---------------------------------------------------------------------------\u001b[0m",
      "\u001b[0;31mKeyboardInterrupt\u001b[0m                         Traceback (most recent call last)",
      "\u001b[0;32m<ipython-input-60-4ec387add167>\u001b[0m in \u001b[0;36m<module>\u001b[0;34m\u001b[0m\n\u001b[1;32m     50\u001b[0m \u001b[0mout\u001b[0m \u001b[0;34m=\u001b[0m \u001b[0mlist\u001b[0m\u001b[0;34m(\u001b[0m\u001b[0mitertools\u001b[0m\u001b[0;34m.\u001b[0m\u001b[0mchain\u001b[0m\u001b[0;34m.\u001b[0m\u001b[0mfrom_iterable\u001b[0m\u001b[0;34m(\u001b[0m\u001b[0mout\u001b[0m\u001b[0;34m)\u001b[0m\u001b[0;34m)\u001b[0m\u001b[0;34m\u001b[0m\u001b[0;34m\u001b[0m\u001b[0m\n\u001b[1;32m     51\u001b[0m \u001b[0;34m\u001b[0m\u001b[0m\n\u001b[0;32m---> 52\u001b[0;31m \u001b[0;34m[\u001b[0m\u001b[0mgot_net\u001b[0m\u001b[0;34m.\u001b[0m\u001b[0madd_edge\u001b[0m\u001b[0;34m(\u001b[0m\u001b[0mdst\u001b[0m\u001b[0;34m[\u001b[0m\u001b[0;36m0\u001b[0m\u001b[0;34m]\u001b[0m\u001b[0;34m,\u001b[0m \u001b[0mdst\u001b[0m\u001b[0;34m[\u001b[0m\u001b[0;36m1\u001b[0m\u001b[0;34m]\u001b[0m\u001b[0;34m,\u001b[0m \u001b[0mvalue\u001b[0m\u001b[0;34m=\u001b[0m\u001b[0mint\u001b[0m\u001b[0;34m(\u001b[0m\u001b[0mdst\u001b[0m\u001b[0;34m[\u001b[0m\u001b[0;36m2\u001b[0m\u001b[0;34m]\u001b[0m\u001b[0;34m)\u001b[0m\u001b[0;34m,\u001b[0m\u001b[0mcolor\u001b[0m\u001b[0;34m=\u001b[0m\u001b[0;34m'#3d3d3d'\u001b[0m\u001b[0;34m)\u001b[0m \u001b[0;32mfor\u001b[0m \u001b[0mdst\u001b[0m \u001b[0;32min\u001b[0m \u001b[0mtqdm\u001b[0m\u001b[0;34m(\u001b[0m\u001b[0mout\u001b[0m\u001b[0;34m)\u001b[0m\u001b[0;34m]\u001b[0m\u001b[0;34m\u001b[0m\u001b[0;34m\u001b[0m\u001b[0m\n\u001b[0m\u001b[1;32m     53\u001b[0m \u001b[0;31m#list(map(create_edge,sources.unique()))\u001b[0m\u001b[0;34m\u001b[0m\u001b[0;34m\u001b[0m\u001b[0;34m\u001b[0m\u001b[0m\n\u001b[1;32m     54\u001b[0m \u001b[0;34m\u001b[0m\u001b[0m\n",
      "\u001b[0;32m<ipython-input-60-4ec387add167>\u001b[0m in \u001b[0;36m<listcomp>\u001b[0;34m(.0)\u001b[0m\n\u001b[1;32m     50\u001b[0m \u001b[0mout\u001b[0m \u001b[0;34m=\u001b[0m \u001b[0mlist\u001b[0m\u001b[0;34m(\u001b[0m\u001b[0mitertools\u001b[0m\u001b[0;34m.\u001b[0m\u001b[0mchain\u001b[0m\u001b[0;34m.\u001b[0m\u001b[0mfrom_iterable\u001b[0m\u001b[0;34m(\u001b[0m\u001b[0mout\u001b[0m\u001b[0;34m)\u001b[0m\u001b[0;34m)\u001b[0m\u001b[0;34m\u001b[0m\u001b[0;34m\u001b[0m\u001b[0m\n\u001b[1;32m     51\u001b[0m \u001b[0;34m\u001b[0m\u001b[0m\n\u001b[0;32m---> 52\u001b[0;31m \u001b[0;34m[\u001b[0m\u001b[0mgot_net\u001b[0m\u001b[0;34m.\u001b[0m\u001b[0madd_edge\u001b[0m\u001b[0;34m(\u001b[0m\u001b[0mdst\u001b[0m\u001b[0;34m[\u001b[0m\u001b[0;36m0\u001b[0m\u001b[0;34m]\u001b[0m\u001b[0;34m,\u001b[0m \u001b[0mdst\u001b[0m\u001b[0;34m[\u001b[0m\u001b[0;36m1\u001b[0m\u001b[0;34m]\u001b[0m\u001b[0;34m,\u001b[0m \u001b[0mvalue\u001b[0m\u001b[0;34m=\u001b[0m\u001b[0mint\u001b[0m\u001b[0;34m(\u001b[0m\u001b[0mdst\u001b[0m\u001b[0;34m[\u001b[0m\u001b[0;36m2\u001b[0m\u001b[0;34m]\u001b[0m\u001b[0;34m)\u001b[0m\u001b[0;34m,\u001b[0m\u001b[0mcolor\u001b[0m\u001b[0;34m=\u001b[0m\u001b[0;34m'#3d3d3d'\u001b[0m\u001b[0;34m)\u001b[0m \u001b[0;32mfor\u001b[0m \u001b[0mdst\u001b[0m \u001b[0;32min\u001b[0m \u001b[0mtqdm\u001b[0m\u001b[0;34m(\u001b[0m\u001b[0mout\u001b[0m\u001b[0;34m)\u001b[0m\u001b[0;34m]\u001b[0m\u001b[0;34m\u001b[0m\u001b[0;34m\u001b[0m\u001b[0m\n\u001b[0m\u001b[1;32m     53\u001b[0m \u001b[0;31m#list(map(create_edge,sources.unique()))\u001b[0m\u001b[0;34m\u001b[0m\u001b[0;34m\u001b[0m\u001b[0;34m\u001b[0m\u001b[0m\n\u001b[1;32m     54\u001b[0m \u001b[0;34m\u001b[0m\u001b[0m\n",
      "\u001b[0;32m~/anaconda3/lib/python3.8/site-packages/pyvis/network.py\u001b[0m in \u001b[0;36madd_edge\u001b[0;34m(self, source, to, **options)\u001b[0m\n\u001b[1;32m    342\u001b[0m         \u001b[0;31m# we only check existing edge for undirected graphs\u001b[0m\u001b[0;34m\u001b[0m\u001b[0;34m\u001b[0m\u001b[0;34m\u001b[0m\u001b[0m\n\u001b[1;32m    343\u001b[0m         \u001b[0;32mif\u001b[0m \u001b[0;32mnot\u001b[0m \u001b[0mself\u001b[0m\u001b[0;34m.\u001b[0m\u001b[0mdirected\u001b[0m\u001b[0;34m:\u001b[0m\u001b[0;34m\u001b[0m\u001b[0;34m\u001b[0m\u001b[0m\n\u001b[0;32m--> 344\u001b[0;31m             \u001b[0;32mfor\u001b[0m \u001b[0me\u001b[0m \u001b[0;32min\u001b[0m \u001b[0mself\u001b[0m\u001b[0;34m.\u001b[0m\u001b[0medges\u001b[0m\u001b[0;34m:\u001b[0m\u001b[0;34m\u001b[0m\u001b[0;34m\u001b[0m\u001b[0m\n\u001b[0m\u001b[1;32m    345\u001b[0m                 \u001b[0mfrm\u001b[0m \u001b[0;34m=\u001b[0m \u001b[0me\u001b[0m\u001b[0;34m[\u001b[0m\u001b[0;34m'from'\u001b[0m\u001b[0;34m]\u001b[0m\u001b[0;34m\u001b[0m\u001b[0;34m\u001b[0m\u001b[0m\n\u001b[1;32m    346\u001b[0m                 \u001b[0mdest\u001b[0m \u001b[0;34m=\u001b[0m \u001b[0me\u001b[0m\u001b[0;34m[\u001b[0m\u001b[0;34m'to'\u001b[0m\u001b[0;34m]\u001b[0m\u001b[0;34m\u001b[0m\u001b[0;34m\u001b[0m\u001b[0m\n",
      "\u001b[0;31mKeyboardInterrupt\u001b[0m: "
     ]
    }
   ],
   "source": [
    "df = pd.read_csv('final_08_08.csv')\n",
    "#df.columns\n",
    "df_cut = df[['name', 'cb_link','site','Industries']]\n",
    "df_cut = df_cut[~df_cut['Industries'].isna()].reset_index(drop=True)\n",
    "df_cut['Industries'] = df_cut['Industries'].apply(lambda x: x.split(','))\n",
    "df_cut = df_cut.explode('Industries').reset_index(drop=True)\n",
    "df_cut['Industries'] = df_cut['Industries'].apply(lambda x: x.strip())\n",
    "df_cut['weight']=1\n",
    "df_cut = df_cut.sample(4000)\n",
    "ind = dict(zip(df_cut['Industries'].value_counts().index,\n",
    "df_cut['Industries'].value_counts().values))\n",
    "got_net = Network(height='1000px', width='100%', bgcolor='#222222', font_color='white')\n",
    "# set the physics layout of the network\n",
    "#got_net.barnes_hut(gravity=-80000, central_gravity=0.1, spring_length=50, spring_strength=0.015, damping=0.4, overlap=0.9)\n",
    "got_net.force_atlas_2based(gravity= -1500, central_gravity=0.01, spring_length=100,spring_strength=0.05,damping=0.4)\n",
    "#got_net.hrepulsion()\n",
    "#got_net.repulsion()\n",
    "\n",
    "got_net.inherit_edge_colors(True)\n",
    "sources = df_cut['name']\n",
    "targets = df_cut['Industries']\n",
    "weights = df_cut['weight']\n",
    "edge_data = zip(sources, targets, weights)\n",
    "\n",
    "for src in sources.unique():\n",
    "    got_net.add_node(src, src, title=src,size=40,color='#1588e6')\n",
    "\n",
    "def work_ind(src,ind):\n",
    "    dsts = df_cut[df_cut['Industries']==ind]\n",
    "    dsts = dsts[dsts['name']!=src]\n",
    "    \n",
    "    \n",
    "def create_edge(src):\n",
    "    inds = df_cut[df_cut['name']==src].Industries.values\n",
    "    dsts = df_cut[df_cut['Industries'].isin(inds)]\n",
    "    dsts = dsts[dsts['name']!=src]\n",
    "    names = dsts.name.value_counts()\n",
    "    return [(src, dst[0], int(dst[1])) for dst in zip(names.index,names.values)]\n",
    "\n",
    "#got_net.add_edge(src, dst[0], value=int(dst[1]),color='#3d3d3d')\n",
    "\n",
    "neighbor_map = got_net.get_adj_list()\n",
    "\n",
    "#out = process_map(create_edge,sources.unique(),max_workers=6,chunksize=10)\n",
    "\n",
    "out = list(process_map(create_edge,sources.unique(),max_workers=7,chunksize=10))\n",
    "out = list(itertools.chain.from_iterable(out))\n",
    "\n",
    "[got_net.add_edge(dst[0], dst[1], value=int(dst[2]),color='#3d3d3d') for dst in tqdm(out)]\n",
    "#list(map(create_edge,sources.unique()))\n",
    "\n",
    "with open('ligacoes.pickle', 'wb') as handle:\n",
    "    pickle.dump(got_net.edges, handle, protocol=pickle.HIGHEST_PROTOCOL)\n",
    "\n",
    "got_net.set_edge_smooth('cubicBezier')\n",
    "got_net.inherit_edge_colors(True)\n",
    "#got_net.set_edge_smooth('continuous')\n",
    "# add neighbor data to node hover data\n",
    "#for node in got_net.nodes:\n",
    "#    node['title'] += ' Neighbors:<br>' + '<br>'.join(neighbor_map[node['id']])\n",
    "    #node['value'] = node['size']\n",
    "got_net.show_buttons(filter_=['physics'])\n",
    "got_net.show('grapho.html')"
   ]
  },
  {
   "cell_type": "code",
   "execution_count": 56,
   "id": "5a22c61c-fa9b-48ad-9936-5dd884f42484",
   "metadata": {},
   "outputs": [],
   "source": [
    "with open('ligacoes.pickle', 'wb') as handle:\n",
    "    pickle.dump(got_net.edges, handle, protocol=pickle.HIGHEST_PROTOCOL)\n"
   ]
  },
  {
   "cell_type": "code",
   "execution_count": null,
   "id": "2bf050d5-8d42-4922-a5e0-f249eeeee390",
   "metadata": {},
   "outputs": [],
   "source": []
  }
 ],
 "metadata": {
  "kernelspec": {
   "display_name": "Python 3",
   "language": "python",
   "name": "python3"
  },
  "language_info": {
   "codemirror_mode": {
    "name": "ipython",
    "version": 3
   },
   "file_extension": ".py",
   "mimetype": "text/x-python",
   "name": "python",
   "nbconvert_exporter": "python",
   "pygments_lexer": "ipython3",
   "version": "3.8.5"
  }
 },
 "nbformat": 4,
 "nbformat_minor": 5
}
