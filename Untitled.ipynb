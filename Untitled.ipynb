{
 "cells": [
  {
   "cell_type": "code",
   "execution_count": 18,
   "id": "bb081efd-7394-458b-886e-46f675d6d2b1",
   "metadata": {},
   "outputs": [],
   "source": [
    "import pandas as pd\n",
    "from pyvis.network import Network"
   ]
  },
  {
   "cell_type": "code",
   "execution_count": 6,
   "id": "f29cdbb0-1d05-490d-afcd-4e17c786e181",
   "metadata": {},
   "outputs": [
    {
     "data": {
      "text/plain": [
       "Index(['name', 'cb_link', 'employers', 'phase_invest', 'type', 'site',\n",
       "       'cb_rank', 'Total Funding Amount', 'Contacts', 'Employee Profiles',\n",
       "       'Investors', 'Similar Companies', 'news', 'Industries',\n",
       "       'Headquarters Regions', 'Founded Date', 'Founders', 'Operating Status',\n",
       "       'Last Funding Type', 'Also Known As', 'Legal Name', 'Company Type',\n",
       "       'Contact Email', 'lists', 'faq', 'description', 'Acquisitions',\n",
       "       'Phone Number', 'Transaction Name', 'Acquired by', 'Announced Date',\n",
       "       'Price', 'Stock Symbol', 'Diversity Spotlight (US Only)', 'Hub Tags',\n",
       "       'Contact Email nbsp;', 'Investments', 'Related Hubs', 'Exits',\n",
       "       'Number of Exits', 'Diversity Investments', 'Investor Type',\n",
       "       'Investment Stage', 'Company Type&nbspnbsp;', 'Sub-Organization of',\n",
       "       'Operating Status nbsp;', 'Funds', 'Accelerator Application Deadline',\n",
       "       'Accelerator Duration (in weeks)', 'Company Type nbsp;', 'Closed Date',\n",
       "       'Funding Rounds', 'Lead Investors', 'Accelerator has Demo Days',\n",
       "       'Accelerator Program Type', 'city', 'state', 'country', 'Esp_tag1',\n",
       "       'Esp_tag2', 'Esp_tag3', 'Esp_Cat'],\n",
       "      dtype='object')"
      ]
     },
     "execution_count": 6,
     "metadata": {},
     "output_type": "execute_result"
    }
   ],
   "source": [
    "df = pd.read_csv('./notebooks/final_08_08.csv')\n",
    "df.columns"
   ]
  },
  {
   "cell_type": "code",
   "execution_count": 121,
   "id": "b82353d8-faac-4116-b17a-77c0dea8b5af",
   "metadata": {},
   "outputs": [],
   "source": [
    "df_cut = df[['name', 'cb_link','site','Industries']]\n",
    "df_cut = df_cut[~df_cut['Industries'].isna()].reset_index(drop=True)\n",
    "df_cut['Industries'] = df_cut['Industries'].apply(lambda x: x.split(','))\n",
    "df_cut = df_cut.explode('Industries').reset_index(drop=True)\n",
    "df_cut['Industries'] = df_cut['Industries'].apply(lambda x: x.strip())\n",
    "df_cut['weight']=1\n",
    "#df_cut = df_cut.sample(2000)\n",
    "ind = dict(zip(df_cut['Industries'].value_counts().index,\n",
    "df_cut['Industries'].value_counts().values))"
   ]
  },
  {
   "cell_type": "code",
   "execution_count": 124,
   "id": "8e08b9f9-0b71-4288-a7b0-e049fbdcde5b",
   "metadata": {},
   "outputs": [],
   "source": [
    "got_net = Network(height='1000px', width='100%', bgcolor='#222222', font_color='white')\n",
    "\n",
    "# set the physics layout of the network\n",
    "got_net.barnes_hut(gravity=-80000, central_gravity=0.3, spring_length=250, spring_strength=0.001, damping=0.09, overlap=1)\n",
    "#got_net.force_atlas_2based()\n",
    "#got_net.hrepulsion()\n",
    "#got_net.repulsion()\n",
    "\n",
    "sources = [1,2,3,4]\n",
    "targets = [5,5,6,6]\n",
    "weights = [1,10,20,100]\n",
    "edge_data = zip(sources, targets, weights)\n",
    "\n",
    "    \n",
    "for e in edge_data:\n",
    "    src = e[0]\n",
    "    dst = e[1]\n",
    "    w = e[2]\n",
    "    got_net.add_node(src, src, )\n",
    "    got_net.add_node(dst, dst, )\n",
    "    got_net.add_edge(src, dst, value=w)\n",
    "\n",
    "neighbor_map = got_net.get_adj_list()\n",
    "\n",
    "# add neighbor data to node hover data\n",
    "#for node in got_net.nodes:\n",
    "#    node['title'] += ' Neighbors:<br>' + '<br>'.join(neighbor_map[node['id']])\n",
    "    #node['value'] = node['size']\n",
    "got_net.show_buttons(filter_=['physics'])\n",
    "got_net.show('gameofthrones.html')"
   ]
  },
  {
   "cell_type": "code",
   "execution_count": 137,
   "id": "b8d205aa-7a7f-41c5-b15f-9956bf8fa493",
   "metadata": {},
   "outputs": [],
   "source": [
    "got_net.inherit_edge_colors(True)"
   ]
  },
  {
   "cell_type": "code",
   "execution_count": 141,
   "id": "6c3562f3-27c3-436c-8095-f21c8fd75830",
   "metadata": {},
   "outputs": [],
   "source": [
    "got_net = Network(height='1000px', width='100%', bgcolor='#222222', font_color='white')\n",
    "\n",
    "# set the physics layout of the network\n",
    "#got_net.barnes_hut(gravity=-80000, central_gravity=0.3, spring_length=250, spring_strength=0.001, damping=0.09, overlap=1)\n",
    "got_net.force_atlas_2based(gravity= -1500, central_gravity=0.005, spring_length=100,spring_strength=0.05,    damping=0.4,  overlap=0.3)\n",
    "#got_net.hrepulsion()\n",
    "#got_net.repulsion()\n",
    "\n",
    "sources = df_cut['name']\n",
    "targets = df_cut['Industries']\n",
    "weights = df_cut['weight']\n",
    "edge_data = zip(sources, targets, weights)\n",
    "\n",
    "for key in ind.keys():\n",
    "    got_net.add_node(key, key, title=key,group=key, size=int(ind[key]))\n",
    "\n",
    "for src in sources.unique():\n",
    "    got_net.add_node(src, src, title=src,size=1)\n",
    "    \n",
    "for e in edge_data:\n",
    "    src = e[0]\n",
    "    dst = e[1]\n",
    "    w = e[2]\n",
    "    got_net.add_edge(src, dst, value=1)\n",
    "\n",
    "neighbor_map = got_net.get_adj_list()\n",
    "got_net.set_edge_smooth('dynamic')\n",
    "# add neighbor data to node hover data\n",
    "#for node in got_net.nodes:\n",
    "#    node['title'] += ' Neighbors:<br>' + '<br>'.join(neighbor_map[node['id']])\n",
    "    #node['value'] = node['size']\n",
    "got_net.show_buttons(filter_=['physics'])\n",
    "got_net.show('gameofthrones.html')"
   ]
  }
 ],
 "metadata": {
  "kernelspec": {
   "display_name": "Python 3",
   "language": "python",
   "name": "python3"
  },
  "language_info": {
   "codemirror_mode": {
    "name": "ipython",
    "version": 3
   },
   "file_extension": ".py",
   "mimetype": "text/x-python",
   "name": "python",
   "nbconvert_exporter": "python",
   "pygments_lexer": "ipython3",
   "version": "3.8.5"
  }
 },
 "nbformat": 4,
 "nbformat_minor": 5
}
